{
 "cells": [
  {
   "cell_type": "code",
   "execution_count": null,
   "id": "20394506-bd04-4197-81e0-df206b5c2184",
   "metadata": {},
   "outputs": [],
   "source": [
    "import sys\n",
    "input(sys.argv)"
   ]
  },
  {
   "cell_type": "code",
   "execution_count": 2,
   "id": "571a56b5-3792-4574-9806-54e62c00eafc",
   "metadata": {},
   "outputs": [
    {
     "name": "stdout",
     "output_type": "stream",
     "text": [
      "12\n"
     ]
    }
   ],
   "source": [
    "print(n)"
   ]
  },
  {
   "cell_type": "code",
   "execution_count": 18,
   "id": "33aefde1-28bb-4eaa-a8c6-281419cbb959",
   "metadata": {},
   "outputs": [
    {
     "ename": "IndexError",
     "evalue": "list index out of range",
     "output_type": "error",
     "traceback": [
      "\u001b[1;31m---------------------------------------------------------------------------\u001b[0m",
      "\u001b[1;31mIndexError\u001b[0m                                Traceback (most recent call last)",
      "Cell \u001b[1;32mIn[18], line 2\u001b[0m\n\u001b[0;32m      1\u001b[0m ll \u001b[38;5;241m=\u001b[39m []\n\u001b[1;32m----> 2\u001b[0m n\u001b[38;5;241m=\u001b[39m sys\u001b[38;5;241m.\u001b[39margv[\u001b[38;5;241m3\u001b[39m]\n",
      "\u001b[1;31mIndexError\u001b[0m: list index out of range"
     ]
    }
   ],
   "source": [
    "ll = []\n",
    "n= sys.argv[3]"
   ]
  },
  {
   "cell_type": "code",
   "execution_count": 17,
   "id": "84fa42eb-3e6c-4b37-8484-92800c5744b4",
   "metadata": {},
   "outputs": [
    {
     "data": {
      "text/plain": [
       "'C:\\\\Users\\\\HNZ1COB\\\\AppData\\\\Roaming\\\\jupyter\\\\runtime\\\\kernel-95af4152-9ac5-4ec6-81d3-d4122000250f.json'"
      ]
     },
     "execution_count": 17,
     "metadata": {},
     "output_type": "execute_result"
    }
   ],
   "source": [
    "n"
   ]
  },
  {
   "cell_type": "code",
   "execution_count": null,
   "id": "957f44cc-ae81-4fe2-9ede-fc05e1776271",
   "metadata": {},
   "outputs": [],
   "source": []
  },
  {
   "cell_type": "code",
   "execution_count": 10,
   "id": "004b30d5-5f04-49f3-94b2-ed175de483cf",
   "metadata": {},
   "outputs": [],
   "source": [
    "for i in range(1,len(sys.argv)):\n",
    "    ll.append(sys.argv[i])"
   ]
  },
  {
   "cell_type": "code",
   "execution_count": 11,
   "id": "b2874659-120c-4192-a487-77968e05ec59",
   "metadata": {},
   "outputs": [
    {
     "data": {
      "text/plain": [
       "['-f',\n",
       " 'C:\\\\Users\\\\HNZ1COB\\\\AppData\\\\Roaming\\\\jupyter\\\\runtime\\\\kernel-95af4152-9ac5-4ec6-81d3-d4122000250f.json']"
      ]
     },
     "execution_count": 11,
     "metadata": {},
     "output_type": "execute_result"
    }
   ],
   "source": [
    "ll"
   ]
  }
 ],
 "metadata": {
  "kernelspec": {
   "display_name": "Python [conda env:base] *",
   "language": "python",
   "name": "conda-base-py"
  },
  "language_info": {
   "codemirror_mode": {
    "name": "ipython",
    "version": 3
   },
   "file_extension": ".py",
   "mimetype": "text/x-python",
   "name": "python",
   "nbconvert_exporter": "python",
   "pygments_lexer": "ipython3",
   "version": "3.12.9"
  }
 },
 "nbformat": 4,
 "nbformat_minor": 5
}
