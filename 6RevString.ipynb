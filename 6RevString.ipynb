{
 "cells": [
  {
   "cell_type": "code",
   "execution_count": 1,
   "id": "136b438f-0324-4896-8c45-6479e45fb723",
   "metadata": {},
   "outputs": [],
   "source": [
    "# 6. Write a function to reverse a string"
   ]
  },
  {
   "cell_type": "code",
   "execution_count": 12,
   "id": "579490e6-5f03-4ff8-b585-e02fa4a53436",
   "metadata": {},
   "outputs": [],
   "source": [
    "def reverse(strg):\n",
    "    reved = \"\"\n",
    "    for i in range(len(strg)-1,-1,-1):\n",
    "        reved = reved + strg[i]\n",
    "    print(reved)"
   ]
  },
  {
   "cell_type": "code",
   "execution_count": 13,
   "id": "6c3c456a-bade-4d2f-b165-d9413f646ef6",
   "metadata": {},
   "outputs": [
    {
     "name": "stdout",
     "output_type": "stream",
     "text": [
      "rehtaeH\n"
     ]
    }
   ],
   "source": [
    "reverse(\"Heather\")"
   ]
  }
 ],
 "metadata": {
  "kernelspec": {
   "display_name": "Python [conda env:base] *",
   "language": "python",
   "name": "conda-base-py"
  },
  "language_info": {
   "codemirror_mode": {
    "name": "ipython",
    "version": 3
   },
   "file_extension": ".py",
   "mimetype": "text/x-python",
   "name": "python",
   "nbconvert_exporter": "python",
   "pygments_lexer": "ipython3",
   "version": "3.12.9"
  }
 },
 "nbformat": 4,
 "nbformat_minor": 5
}
