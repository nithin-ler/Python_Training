{
 "cells": [
  {
   "cell_type": "code",
   "execution_count": 1,
   "id": "5e42dddc-cc30-4836-a058-5615dd080e0b",
   "metadata": {},
   "outputs": [],
   "source": [
    "# Write a program to swap two numbers without using a third variable"
   ]
  },
  {
   "cell_type": "code",
   "execution_count": 3,
   "id": "1c85eb7d-d4c8-4bde-a0bc-d06924377146",
   "metadata": {},
   "outputs": [],
   "source": [
    "a = 5\n",
    "b = 8"
   ]
  },
  {
   "cell_type": "code",
   "execution_count": 4,
   "id": "ebf062bd-7f07-4e0d-ac89-9df198482f19",
   "metadata": {},
   "outputs": [],
   "source": [
    "a,b = b,a"
   ]
  },
  {
   "cell_type": "code",
   "execution_count": 6,
   "id": "d6f3e900-f115-4109-b2aa-c146b4188f2a",
   "metadata": {},
   "outputs": [
    {
     "name": "stdout",
     "output_type": "stream",
     "text": [
      "8\n",
      "5\n"
     ]
    }
   ],
   "source": [
    "print(a)\n",
    "print(b)"
   ]
  }
 ],
 "metadata": {
  "kernelspec": {
   "display_name": "Python [conda env:base] *",
   "language": "python",
   "name": "conda-base-py"
  },
  "language_info": {
   "codemirror_mode": {
    "name": "ipython",
    "version": 3
   },
   "file_extension": ".py",
   "mimetype": "text/x-python",
   "name": "python",
   "nbconvert_exporter": "python",
   "pygments_lexer": "ipython3",
   "version": "3.12.9"
  }
 },
 "nbformat": 4,
 "nbformat_minor": 5
}
