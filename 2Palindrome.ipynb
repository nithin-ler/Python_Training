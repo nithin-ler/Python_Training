{
 "cells": [
  {
   "cell_type": "code",
   "execution_count": null,
   "id": "34b87758-b2f5-4094-8f85-0b37c3f2bac4",
   "metadata": {},
   "outputs": [],
   "source": [
    "# 2. Python code to check  the string is palindrome or not"
   ]
  },
  {
   "cell_type": "code",
   "execution_count": 6,
   "id": "00f93a69-0280-4782-b5e9-7f6bf8364a86",
   "metadata": {},
   "outputs": [],
   "source": [
    "strg = \"6gffddffgg\""
   ]
  },
  {
   "cell_type": "code",
   "execution_count": 7,
   "id": "b2afedba-0231-40b1-9d47-3f323e83fe05",
   "metadata": {},
   "outputs": [],
   "source": [
    "leng = len(strg)"
   ]
  },
  {
   "cell_type": "code",
   "execution_count": 8,
   "id": "f13c8844-9a32-470b-b20b-73ec24c3a3a5",
   "metadata": {},
   "outputs": [
    {
     "name": "stdout",
     "output_type": "stream",
     "text": [
      "Not Palindrome\n"
     ]
    }
   ],
   "source": [
    "flag = True\n",
    "for i in range(leng//2):\n",
    "    if strg[i]!=strg[leng-i-1]:\n",
    "        flag = False\n",
    "        break\n",
    "if flag == True:\n",
    "    print(\"Palindrome\")\n",
    "else:\n",
    "    print(\"Not Palindrome\")\n"
   ]
  }
 ],
 "metadata": {
  "kernelspec": {
   "display_name": "Python [conda env:base] *",
   "language": "python",
   "name": "conda-base-py"
  },
  "language_info": {
   "codemirror_mode": {
    "name": "ipython",
    "version": 3
   },
   "file_extension": ".py",
   "mimetype": "text/x-python",
   "name": "python",
   "nbconvert_exporter": "python",
   "pygments_lexer": "ipython3",
   "version": "3.12.9"
  }
 },
 "nbformat": 4,
 "nbformat_minor": 5
}
