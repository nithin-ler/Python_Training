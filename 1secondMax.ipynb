{
 "cells": [
  {
   "cell_type": "code",
   "execution_count": null,
   "id": "e53e1f3d-ae7a-474f-b489-861521bdaeee",
   "metadata": {},
   "outputs": [],
   "source": [
    "# 1 . write the  python code to find  the second max value for the list "
   ]
  },
  {
   "cell_type": "code",
   "execution_count": 29,
   "id": "29fac773-1dbb-4d7c-a0c8-3f8cfb7b0c53",
   "metadata": {},
   "outputs": [],
   "source": [
    "val = [1,2,3,4,2,8,8,9,9]"
   ]
  },
  {
   "cell_type": "code",
   "execution_count": 30,
   "id": "969a7959-39b5-4c22-9b1d-16d275664539",
   "metadata": {},
   "outputs": [],
   "source": [
    "max1 = 0\n",
    "max2 = 0"
   ]
  },
  {
   "cell_type": "code",
   "execution_count": 31,
   "id": "85de514b-214e-42c5-8829-0d0b651a3cab",
   "metadata": {},
   "outputs": [],
   "source": [
    "for i in val:\n",
    "    if i > max1:\n",
    "        max2 = max1\n",
    "        max1 = i"
   ]
  },
  {
   "cell_type": "code",
   "execution_count": 32,
   "id": "88f7190c-dfa3-43fb-bf0a-168fc1680537",
   "metadata": {},
   "outputs": [
    {
     "name": "stdout",
     "output_type": "stream",
     "text": [
      "9\n"
     ]
    }
   ],
   "source": [
    "print(max1)"
   ]
  },
  {
   "cell_type": "code",
   "execution_count": 33,
   "id": "44c92ddf-90c2-4fa7-8878-f051d4627bf1",
   "metadata": {},
   "outputs": [
    {
     "name": "stdout",
     "output_type": "stream",
     "text": [
      "8\n"
     ]
    }
   ],
   "source": [
    "print(max2)"
   ]
  }
 ],
 "metadata": {
  "kernelspec": {
   "display_name": "Python [conda env:base] *",
   "language": "python",
   "name": "conda-base-py"
  },
  "language_info": {
   "codemirror_mode": {
    "name": "ipython",
    "version": 3
   },
   "file_extension": ".py",
   "mimetype": "text/x-python",
   "name": "python",
   "nbconvert_exporter": "python",
   "pygments_lexer": "ipython3",
   "version": "3.12.9"
  }
 },
 "nbformat": 4,
 "nbformat_minor": 5
}
