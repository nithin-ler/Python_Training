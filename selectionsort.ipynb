{
 "cells": [
  {
   "cell_type": "code",
   "execution_count": 8,
   "id": "24c64030-44a8-46c5-b2f4-b9c6c34887cd",
   "metadata": {},
   "outputs": [],
   "source": [
    "def selsort(arr):\n",
    "    for i in range(len(arr)):\n",
    "        for j in range(len(arr)):\n",
    "            if arr[i]<arr[j]:\n",
    "                temp = arr[j]\n",
    "                arr[j] = arr[i]\n",
    "                arr[i] = temp\n",
    "    return arr"
   ]
  },
  {
   "cell_type": "code",
   "execution_count": 2,
   "id": "82a656fe-addd-4ec3-b5e6-91d20361b09d",
   "metadata": {},
   "outputs": [],
   "source": [
    "arr = [3,1,9,5,0,2,8,5,0]"
   ]
  },
  {
   "cell_type": "code",
   "execution_count": 9,
   "id": "8cdbb950-75ab-4352-990c-2ecee251375b",
   "metadata": {},
   "outputs": [
    {
     "name": "stdout",
     "output_type": "stream",
     "text": [
      "[0, 0, 1, 2, 3, 5, 5, 8, 9]\n"
     ]
    }
   ],
   "source": [
    "print(selsort(arr))"
   ]
  }
 ],
 "metadata": {
  "kernelspec": {
   "display_name": "Python [conda env:base] *",
   "language": "python",
   "name": "conda-base-py"
  },
  "language_info": {
   "codemirror_mode": {
    "name": "ipython",
    "version": 3
   },
   "file_extension": ".py",
   "mimetype": "text/x-python",
   "name": "python",
   "nbconvert_exporter": "python",
   "pygments_lexer": "ipython3",
   "version": "3.12.9"
  }
 },
 "nbformat": 4,
 "nbformat_minor": 5
}
