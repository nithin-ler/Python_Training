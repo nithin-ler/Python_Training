{
 "cells": [
  {
   "cell_type": "code",
   "execution_count": 1,
   "id": "edd1edfd-fee1-4064-b827-705c6faa58d4",
   "metadata": {},
   "outputs": [],
   "source": [
    "# 24. Write a program to find the longest word in a given sentence"
   ]
  },
  {
   "cell_type": "code",
   "execution_count": 2,
   "id": "fefbec87-4fad-4c38-b9ec-1fe8b8997d40",
   "metadata": {},
   "outputs": [],
   "source": [
    "st = \"Complete sentences come in many shapes and sizes. Although every sentence tells a story, some only require a scant number of words while others give a fuller description with commas and clauses.\""
   ]
  },
  {
   "cell_type": "code",
   "execution_count": 8,
   "id": "824603b1-cc8c-462c-bf17-42e5340a3609",
   "metadata": {},
   "outputs": [],
   "source": [
    "maxx=\" \"\n",
    "for i in st.split():\n",
    "    if len(i)>len(maxx):\n",
    "        maxx= i        "
   ]
  },
  {
   "cell_type": "code",
   "execution_count": 9,
   "id": "c3b218b6-3317-4f45-8697-53196a240a8d",
   "metadata": {},
   "outputs": [
    {
     "data": {
      "text/plain": [
       "'description'"
      ]
     },
     "execution_count": 9,
     "metadata": {},
     "output_type": "execute_result"
    }
   ],
   "source": [
    "maxx"
   ]
  }
 ],
 "metadata": {
  "kernelspec": {
   "display_name": "Python [conda env:base] *",
   "language": "python",
   "name": "conda-base-py"
  },
  "language_info": {
   "codemirror_mode": {
    "name": "ipython",
    "version": 3
   },
   "file_extension": ".py",
   "mimetype": "text/x-python",
   "name": "python",
   "nbconvert_exporter": "python",
   "pygments_lexer": "ipython3",
   "version": "3.12.9"
  }
 },
 "nbformat": 4,
 "nbformat_minor": 5
}
