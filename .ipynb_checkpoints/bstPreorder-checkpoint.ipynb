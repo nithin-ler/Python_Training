{
 "cells": [
  {
   "cell_type": "code",
   "execution_count": 27,
   "id": "51ef00b5-3874-423f-a5e0-b22850fb9be9",
   "metadata": {},
   "outputs": [],
   "source": [
    "class Node:\n",
    "    def __init__(self,key):\n",
    "        self.key = key\n",
    "        self.left = None\n",
    "        self.right = None\n",
    "def preorder(root):\n",
    "    if root:\n",
    "        print(f\"{root.key}->\")\n",
    "        print(f\"{preorder(root.left)}->\")\n",
    "        print(f\"{preorder(root.right)}->\")"
   ]
  },
  {
   "cell_type": "code",
   "execution_count": 28,
   "id": "4267e1ac-fe26-42e2-9841-5f98ee03418f",
   "metadata": {},
   "outputs": [],
   "source": [
    "root = Node(5)"
   ]
  },
  {
   "cell_type": "code",
   "execution_count": 29,
   "id": "3c6d00a8-55ff-4ff6-bc76-4114372d7c75",
   "metadata": {},
   "outputs": [],
   "source": [
    "root.left = Node(3)"
   ]
  },
  {
   "cell_type": "code",
   "execution_count": 30,
   "id": "34fba0c7-ffc0-4398-88d6-a0ba43831702",
   "metadata": {},
   "outputs": [],
   "source": [
    "root.right = Node(7)"
   ]
  },
  {
   "cell_type": "code",
   "execution_count": 31,
   "id": "04cd059a-2512-4ab4-bbdd-56da446a0e4f",
   "metadata": {},
   "outputs": [
    {
     "name": "stdout",
     "output_type": "stream",
     "text": [
      "5->\n",
      "<__main__.Node object at 0x000001EDC0170140>->\n",
      "<__main__.Node object at 0x000001EDC0173800>->\n"
     ]
    }
   ],
   "source": [
    "preorder(root)"
   ]
  }
 ],
 "metadata": {
  "kernelspec": {
   "display_name": "Python [conda env:base] *",
   "language": "python",
   "name": "conda-base-py"
  },
  "language_info": {
   "codemirror_mode": {
    "name": "ipython",
    "version": 3
   },
   "file_extension": ".py",
   "mimetype": "text/x-python",
   "name": "python",
   "nbconvert_exporter": "python",
   "pygments_lexer": "ipython3",
   "version": "3.12.9"
  }
 },
 "nbformat": 4,
 "nbformat_minor": 5
}
