{
 "cells": [
  {
   "cell_type": "code",
   "execution_count": 1,
   "id": "512c60cd-f4c4-4006-ae74-1f6a375acd70",
   "metadata": {},
   "outputs": [],
   "source": [
    "dct1 = {1:4,5:9,4:3,2:5}\n",
    "dct2 = {1:3,7:2,4:1,9:5}"
   ]
  },
  {
   "cell_type": "code",
   "execution_count": 2,
   "id": "b48de18d-b01c-41b1-a5cc-f10de0348b89",
   "metadata": {},
   "outputs": [],
   "source": [
    "for i,j in dct1.items():\n",
    "    if i not in dct2:\n",
    "        dct2[i] = j\n",
    "    else:\n",
    "        dct2[i] = dct2[i]+j"
   ]
  },
  {
   "cell_type": "code",
   "execution_count": 4,
   "id": "d4123789-5dd7-4ea0-aba9-1676574bd236",
   "metadata": {},
   "outputs": [
    {
     "name": "stdout",
     "output_type": "stream",
     "text": [
      "Merged dictionary: {1: 7, 7: 2, 4: 4, 9: 5, 5: 9, 2: 5}\n"
     ]
    }
   ],
   "source": [
    "print(\"Merged dictionary:\",dct2)"
   ]
  }
 ],
 "metadata": {
  "kernelspec": {
   "display_name": "Python [conda env:base] *",
   "language": "python",
   "name": "conda-base-py"
  },
  "language_info": {
   "codemirror_mode": {
    "name": "ipython",
    "version": 3
   },
   "file_extension": ".py",
   "mimetype": "text/x-python",
   "name": "python",
   "nbconvert_exporter": "python",
   "pygments_lexer": "ipython3",
   "version": "3.12.9"
  }
 },
 "nbformat": 4,
 "nbformat_minor": 5
}
