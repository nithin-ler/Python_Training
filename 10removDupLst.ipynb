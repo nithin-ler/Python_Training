{
 "cells": [
  {
   "cell_type": "code",
   "execution_count": 1,
   "id": "c5cc5e45-1277-4b07-8fa7-64dc27241df7",
   "metadata": {},
   "outputs": [],
   "source": [
    "# 10. Write a program to remove duplicates from a list."
   ]
  },
  {
   "cell_type": "code",
   "execution_count": 2,
   "id": "4b5cb89b-8940-46a2-acac-eb34b2f6c287",
   "metadata": {},
   "outputs": [],
   "source": [
    "lst = [3,3,6,5,8,2,9,4,8,2,9,0,1,0]"
   ]
  },
  {
   "cell_type": "code",
   "execution_count": 11,
   "id": "95006264-7938-4e29-8372-6dceb4941a03",
   "metadata": {},
   "outputs": [],
   "source": [
    "nlst = [x for i,x in enumerate(lst) if x not in lst[:i]]"
   ]
  },
  {
   "cell_type": "code",
   "execution_count": 12,
   "id": "01e84237-eb12-4abb-ac0f-1883f4bf457a",
   "metadata": {},
   "outputs": [
    {
     "data": {
      "text/plain": [
       "[3, 6, 5, 8, 2, 9, 4, 0, 1]"
      ]
     },
     "execution_count": 12,
     "metadata": {},
     "output_type": "execute_result"
    }
   ],
   "source": [
    "nlst"
   ]
  }
 ],
 "metadata": {
  "kernelspec": {
   "display_name": "Python [conda env:base] *",
   "language": "python",
   "name": "conda-base-py"
  },
  "language_info": {
   "codemirror_mode": {
    "name": "ipython",
    "version": 3
   },
   "file_extension": ".py",
   "mimetype": "text/x-python",
   "name": "python",
   "nbconvert_exporter": "python",
   "pygments_lexer": "ipython3",
   "version": "3.12.9"
  }
 },
 "nbformat": 4,
 "nbformat_minor": 5
}
