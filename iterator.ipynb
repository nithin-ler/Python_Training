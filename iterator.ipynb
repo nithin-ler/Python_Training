{
 "cells": [
  {
   "cell_type": "code",
   "execution_count": 1,
   "id": "7975aaef-028a-4da5-9956-cec1d6222b34",
   "metadata": {},
   "outputs": [],
   "source": [
    "marks = [34,67,86,33,92,76]"
   ]
  },
  {
   "cell_type": "code",
   "execution_count": 2,
   "id": "8aad9e27-545f-47ab-a3be-fb3e650c5063",
   "metadata": {},
   "outputs": [],
   "source": [
    "it = iter(marks)"
   ]
  },
  {
   "cell_type": "code",
   "execution_count": 4,
   "id": "0dd3e4fe-3184-4a73-bb44-cb3f1d4e542a",
   "metadata": {},
   "outputs": [
    {
     "name": "stdout",
     "output_type": "stream",
     "text": [
      "34\n"
     ]
    }
   ],
   "source": [
    "print(next(it))"
   ]
  },
  {
   "cell_type": "code",
   "execution_count": 5,
   "id": "e0e78d68-9957-4345-856a-266763999a9a",
   "metadata": {},
   "outputs": [
    {
     "name": "stdout",
     "output_type": "stream",
     "text": [
      "67\n"
     ]
    }
   ],
   "source": [
    "print(next(it))"
   ]
  },
  {
   "cell_type": "code",
   "execution_count": 6,
   "id": "b18adba2-0a57-4a00-a562-029189b3161a",
   "metadata": {},
   "outputs": [
    {
     "name": "stdout",
     "output_type": "stream",
     "text": [
      "kbfjfbkbfjfbkbfjfbkbfjfbkbfjfb\n"
     ]
    }
   ],
   "source": [
    "print(\"kbfjfb\"*5)"
   ]
  },
  {
   "cell_type": "code",
   "execution_count": 10,
   "id": "6c4cf417-4774-4aef-a511-4d3ef2362311",
   "metadata": {},
   "outputs": [],
   "source": [
    "d = {\"a\":3,\"b\":4}"
   ]
  },
  {
   "cell_type": "code",
   "execution_count": 16,
   "id": "61417032-2f0f-4397-99f6-fee939ca2dca",
   "metadata": {},
   "outputs": [
    {
     "data": {
      "text/plain": [
       "3"
      ]
     },
     "execution_count": 16,
     "metadata": {},
     "output_type": "execute_result"
    }
   ],
   "source": [
    "d.get(\"a\")"
   ]
  },
  {
   "cell_type": "code",
   "execution_count": 24,
   "id": "1bfe8da5-286c-4d4e-a62a-0b0573de8703",
   "metadata": {},
   "outputs": [],
   "source": [
    "def func(x,y=[]):\n",
    "    y.append(x)\n",
    "    return"
   ]
  },
  {
   "cell_type": "code",
   "execution_count": 27,
   "id": "dfbfcbc1-9ec0-461d-b42d-5f3a0339dcd7",
   "metadata": {},
   "outputs": [
    {
     "name": "stdout",
     "output_type": "stream",
     "text": [
      "None\n"
     ]
    }
   ],
   "source": [
    "print(func(4))"
   ]
  },
  {
   "cell_type": "code",
   "execution_count": 28,
   "id": "0c02b8c3-3263-4345-9cd8-3e18cdd21bfa",
   "metadata": {},
   "outputs": [],
   "source": [
    "s1={1,2,3}\n",
    "s2={4,5,2}"
   ]
  },
  {
   "cell_type": "markdown",
   "id": "66593400-7a12-43a4-a3f2-37a306200719",
   "metadata": {},
   "source": [
    "s1\\^s2"
   ]
  },
  {
   "cell_type": "code",
   "execution_count": 30,
   "id": "1159ffe6-5c2f-4a27-9f63-e76fbb69d641",
   "metadata": {},
   "outputs": [
    {
     "data": {
      "text/plain": [
       "{1, 3, 4, 5}"
      ]
     },
     "execution_count": 30,
     "metadata": {},
     "output_type": "execute_result"
    }
   ],
   "source": [
    "s1^s2"
   ]
  }
 ],
 "metadata": {
  "kernelspec": {
   "display_name": "Python [conda env:base] *",
   "language": "python",
   "name": "conda-base-py"
  },
  "language_info": {
   "codemirror_mode": {
    "name": "ipython",
    "version": 3
   },
   "file_extension": ".py",
   "mimetype": "text/x-python",
   "name": "python",
   "nbconvert_exporter": "python",
   "pygments_lexer": "ipython3",
   "version": "3.12.9"
  }
 },
 "nbformat": 4,
 "nbformat_minor": 5
}
