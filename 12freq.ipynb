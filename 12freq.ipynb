{
 "cells": [
  {
   "cell_type": "code",
   "execution_count": 2,
   "id": "a85c27ec-a209-4dc0-a65f-8c7cbe976586",
   "metadata": {},
   "outputs": [],
   "source": [
    "# 12. Write a program to count the frequency of each element in a list"
   ]
  },
  {
   "cell_type": "code",
   "execution_count": 4,
   "id": "f166ca31-4acc-4c9a-863f-59611da962a5",
   "metadata": {},
   "outputs": [],
   "source": [
    "dct = {}\n",
    "lst = [4,4,7,6,2,4,5,7,8,6,5,4,3,3,5,6,5,2,5,8,7,4,5,8,7,5]"
   ]
  },
  {
   "cell_type": "code",
   "execution_count": 6,
   "id": "58af373f-cc14-499c-ae0f-482e3a6ed52c",
   "metadata": {},
   "outputs": [],
   "source": [
    "for i in lst:\n",
    "    if i not in dct:\n",
    "        dct[i]=1\n",
    "    else:\n",
    "        dct[i]=dct[i]+1"
   ]
  },
  {
   "cell_type": "code",
   "execution_count": 7,
   "id": "4012b413-9e49-44df-9438-1af98f456a75",
   "metadata": {},
   "outputs": [
    {
     "data": {
      "text/plain": [
       "{4: 5, 7: 4, 6: 3, 2: 2, 5: 7, 8: 3, 3: 2}"
      ]
     },
     "execution_count": 7,
     "metadata": {},
     "output_type": "execute_result"
    }
   ],
   "source": [
    "dct"
   ]
  }
 ],
 "metadata": {
  "kernelspec": {
   "display_name": "Python [conda env:base] *",
   "language": "python",
   "name": "conda-base-py"
  },
  "language_info": {
   "codemirror_mode": {
    "name": "ipython",
    "version": 3
   },
   "file_extension": ".py",
   "mimetype": "text/x-python",
   "name": "python",
   "nbconvert_exporter": "python",
   "pygments_lexer": "ipython3",
   "version": "3.12.9"
  }
 },
 "nbformat": 4,
 "nbformat_minor": 5
}
