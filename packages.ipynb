{
 "cells": [
  {
   "cell_type": "code",
   "execution_count": 2,
   "id": "57b44698-89d6-4be9-b481-add771780f0f",
   "metadata": {},
   "outputs": [],
   "source": [
    "class Tempconversion:\n",
    "    def ctof(x):\n",
    "        return x*19"
   ]
  },
  {
   "cell_type": "code",
   "execution_count": 4,
   "id": "0daa8efd-397c-407b-be49-7c095168e327",
   "metadata": {},
   "outputs": [
    {
     "data": {
      "text/plain": [
       "__main__.Tempconversion"
      ]
     },
     "execution_count": 4,
     "metadata": {},
     "output_type": "execute_result"
    }
   ],
   "source": [
    "Tempconversion"
   ]
  },
  {
   "cell_type": "code",
   "execution_count": 5,
   "id": "7c267dae-2f9b-4017-bebc-33366bb01b45",
   "metadata": {},
   "outputs": [],
   "source": [
    "x = Tempconversion"
   ]
  },
  {
   "cell_type": "code",
   "execution_count": 6,
   "id": "2b6116ec-114c-43e6-adb0-0d5c688a250c",
   "metadata": {},
   "outputs": [
    {
     "name": "stdout",
     "output_type": "stream",
     "text": [
      "190\n"
     ]
    }
   ],
   "source": [
    "print(x.ctof(10))"
   ]
  }
 ],
 "metadata": {
  "kernelspec": {
   "display_name": "Python [conda env:base] *",
   "language": "python",
   "name": "conda-base-py"
  },
  "language_info": {
   "codemirror_mode": {
    "name": "ipython",
    "version": 3
   },
   "file_extension": ".py",
   "mimetype": "text/x-python",
   "name": "python",
   "nbconvert_exporter": "python",
   "pygments_lexer": "ipython3",
   "version": "3.12.9"
  }
 },
 "nbformat": 4,
 "nbformat_minor": 5
}
