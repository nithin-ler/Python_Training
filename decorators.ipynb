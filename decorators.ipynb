{
 "cells": [
  {
   "cell_type": "code",
   "execution_count": 16,
   "id": "dd408649-badb-44dc-8edc-062f3dcc5459",
   "metadata": {},
   "outputs": [],
   "source": [
    "def mdecorator(func):\n",
    "    def wrapper():\n",
    "        print(\"Start\")\n",
    "        func()\n",
    "        print(\"end\")\n",
    "    return wrapper"
   ]
  },
  {
   "cell_type": "code",
   "execution_count": 17,
   "id": "e6bcc1f6-9bc2-4dd3-bd82-a6360b15cdad",
   "metadata": {},
   "outputs": [],
   "source": [
    "@mdecorator\n",
    "def fun():\n",
    "    print(\"Function\")"
   ]
  },
  {
   "cell_type": "code",
   "execution_count": 18,
   "id": "1688cef1-1158-43c1-8942-224e8692d627",
   "metadata": {},
   "outputs": [
    {
     "name": "stdout",
     "output_type": "stream",
     "text": [
      "Start\n",
      "Function\n",
      "end\n"
     ]
    }
   ],
   "source": [
    "fun()"
   ]
  }
 ],
 "metadata": {
  "kernelspec": {
   "display_name": "Python [conda env:base] *",
   "language": "python",
   "name": "conda-base-py"
  },
  "language_info": {
   "codemirror_mode": {
    "name": "ipython",
    "version": 3
   },
   "file_extension": ".py",
   "mimetype": "text/x-python",
   "name": "python",
   "nbconvert_exporter": "python",
   "pygments_lexer": "ipython3",
   "version": "3.12.9"
  }
 },
 "nbformat": 4,
 "nbformat_minor": 5
}
