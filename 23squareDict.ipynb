{
 "cells": [
  {
   "cell_type": "code",
   "execution_count": 6,
   "id": "8e333d55-22f1-4d18-bd9f-b83e7bc3b951",
   "metadata": {},
   "outputs": [],
   "source": [
    "# 23, Write a program to generate a dictionary where keys are numbers (1–10) and values are their squares."
   ]
  },
  {
   "cell_type": "code",
   "execution_count": 3,
   "id": "f5983fed-6938-4882-b2c9-3b617b3afec9",
   "metadata": {},
   "outputs": [],
   "source": [
    "dic = {}"
   ]
  },
  {
   "cell_type": "code",
   "execution_count": 2,
   "id": "77eda28d-8721-4744-863c-5324b2820dbb",
   "metadata": {},
   "outputs": [
    {
     "name": "stdin",
     "output_type": "stream",
     "text": [
      "Enter range 10\n"
     ]
    }
   ],
   "source": [
    "n = int(input(\"Enter range\"))"
   ]
  },
  {
   "cell_type": "code",
   "execution_count": 4,
   "id": "34af7beb-74d7-4080-99c0-4e7b0565485a",
   "metadata": {},
   "outputs": [],
   "source": [
    "for i in range(1,n+1):\n",
    "    dic[i] = i*i"
   ]
  },
  {
   "cell_type": "code",
   "execution_count": 5,
   "id": "5293ecc9-1e73-4130-a949-8ba9a1f578cb",
   "metadata": {},
   "outputs": [
    {
     "data": {
      "text/plain": [
       "{1: 1, 2: 4, 3: 9, 4: 16, 5: 25, 6: 36, 7: 49, 8: 64, 9: 81, 10: 100}"
      ]
     },
     "execution_count": 5,
     "metadata": {},
     "output_type": "execute_result"
    }
   ],
   "source": [
    "dic"
   ]
  }
 ],
 "metadata": {
  "kernelspec": {
   "display_name": "Python [conda env:base] *",
   "language": "python",
   "name": "conda-base-py"
  },
  "language_info": {
   "codemirror_mode": {
    "name": "ipython",
    "version": 3
   },
   "file_extension": ".py",
   "mimetype": "text/x-python",
   "name": "python",
   "nbconvert_exporter": "python",
   "pygments_lexer": "ipython3",
   "version": "3.12.9"
  }
 },
 "nbformat": 4,
 "nbformat_minor": 5
}
