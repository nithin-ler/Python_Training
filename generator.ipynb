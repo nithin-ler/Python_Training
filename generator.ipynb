{
 "cells": [
  {
   "cell_type": "code",
   "execution_count": 2,
   "id": "4ce28287-f22d-4167-8382-20678cdf6c16",
   "metadata": {},
   "outputs": [],
   "source": [
    "sqq = (x*x for x in range(100))"
   ]
  },
  {
   "cell_type": "code",
   "execution_count": 3,
   "id": "53a72796-e205-4fbb-918f-6c9f95754039",
   "metadata": {},
   "outputs": [
    {
     "name": "stdout",
     "output_type": "stream",
     "text": [
      "0\n"
     ]
    }
   ],
   "source": [
    "print(next(sqq))"
   ]
  },
  {
   "cell_type": "code",
   "execution_count": 4,
   "id": "6a618e8f-92bf-4eac-8efe-d404611f83ab",
   "metadata": {},
   "outputs": [
    {
     "name": "stdout",
     "output_type": "stream",
     "text": [
      "1\n"
     ]
    }
   ],
   "source": [
    "print(next(sqq))"
   ]
  },
  {
   "cell_type": "code",
   "execution_count": 5,
   "id": "81c46e18-da93-4299-ab8a-f2db14f88923",
   "metadata": {},
   "outputs": [
    {
     "name": "stdout",
     "output_type": "stream",
     "text": [
      "4\n"
     ]
    }
   ],
   "source": [
    "print(next(sqq))"
   ]
  }
 ],
 "metadata": {
  "kernelspec": {
   "display_name": "Python [conda env:base] *",
   "language": "python",
   "name": "conda-base-py"
  },
  "language_info": {
   "codemirror_mode": {
    "name": "ipython",
    "version": 3
   },
   "file_extension": ".py",
   "mimetype": "text/x-python",
   "name": "python",
   "nbconvert_exporter": "python",
   "pygments_lexer": "ipython3",
   "version": "3.12.9"
  }
 },
 "nbformat": 4,
 "nbformat_minor": 5
}
