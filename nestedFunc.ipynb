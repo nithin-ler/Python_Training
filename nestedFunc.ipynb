{
 "cells": [
  {
   "cell_type": "code",
   "execution_count": 5,
   "id": "9ab402be-7196-4269-85c2-78b9ea75d9f1",
   "metadata": {},
   "outputs": [],
   "source": [
    "def outer():\n",
    "    print(\"out\")\n",
    "    def inner():\n",
    "        print(\"inner\")\n",
    "    inner()"
   ]
  },
  {
   "cell_type": "code",
   "execution_count": 6,
   "id": "56e43557-a957-493d-b5da-64549c023c12",
   "metadata": {},
   "outputs": [
    {
     "name": "stdout",
     "output_type": "stream",
     "text": [
      "out\n",
      "inner\n"
     ]
    }
   ],
   "source": [
    "outer()"
   ]
  },
  {
   "cell_type": "code",
   "execution_count": 10,
   "id": "e96c5e2d-12bb-41ca-9561-70d0906a4242",
   "metadata": {},
   "outputs": [],
   "source": [
    "def outer(x):\n",
    "    def inner(y):\n",
    "        return x+y\n",
    "    return inner"
   ]
  },
  {
   "cell_type": "code",
   "execution_count": 13,
   "id": "11410a24-3ff4-414f-a7d2-b29eb5262a7f",
   "metadata": {},
   "outputs": [],
   "source": [
    "inn = outer(20)"
   ]
  },
  {
   "cell_type": "code",
   "execution_count": 14,
   "id": "34d080df-d884-4c28-b4b3-494ec2a2d89d",
   "metadata": {},
   "outputs": [
    {
     "data": {
      "text/plain": [
       "50"
      ]
     },
     "execution_count": 14,
     "metadata": {},
     "output_type": "execute_result"
    }
   ],
   "source": [
    "inn(30)"
   ]
  },
  {
   "cell_type": "code",
   "execution_count": 15,
   "id": "1df4ec1f-7f49-4595-8db7-f0634e821c4d",
   "metadata": {},
   "outputs": [],
   "source": [
    "def outerst(x):\n",
    "    def innerst(y):\n",
    "        return x+\" \"+y\n",
    "    return innerst"
   ]
  },
  {
   "cell_type": "code",
   "execution_count": 16,
   "id": "11f070dc-b80a-4e8a-a98f-ce0c188966a1",
   "metadata": {},
   "outputs": [],
   "source": [
    "closure = outerst(\"Nithin\")"
   ]
  },
  {
   "cell_type": "code",
   "execution_count": 17,
   "id": "3b4e5943-f3b3-4bb3-b31c-a37ceb152ae3",
   "metadata": {},
   "outputs": [
    {
     "name": "stdout",
     "output_type": "stream",
     "text": [
      "Nithin Shine\n"
     ]
    }
   ],
   "source": [
    "print(closure(\"Shine\"))"
   ]
  },
  {
   "cell_type": "code",
   "execution_count": 25,
   "id": "67b62c28-7d2e-4c8c-b7f7-df314b9f7e75",
   "metadata": {},
   "outputs": [
    {
     "ename": "ModuleNotFoundError",
     "evalue": "No module named 'TempConvert'",
     "output_type": "error",
     "traceback": [
      "\u001b[1;31m---------------------------------------------------------------------------\u001b[0m",
      "\u001b[1;31mModuleNotFoundError\u001b[0m                       Traceback (most recent call last)",
      "Cell \u001b[1;32mIn[25], line 1\u001b[0m\n\u001b[1;32m----> 1\u001b[0m \u001b[38;5;28;01mimport\u001b[39;00m \u001b[38;5;21;01mTempConvert\u001b[39;00m\n",
      "\u001b[1;31mModuleNotFoundError\u001b[0m: No module named 'TempConvert'"
     ]
    }
   ],
   "source": [
    "import TempConvert"
   ]
  },
  {
   "cell_type": "code",
   "execution_count": 26,
   "id": "07473ebc-8cfc-4d8a-9b13-96868e8c43ee",
   "metadata": {},
   "outputs": [],
   "source": [
    "s1=\" uu \""
   ]
  },
  {
   "cell_type": "code",
   "execution_count": 27,
   "id": "35b418b4-2d2e-4933-81e3-85daf249e71c",
   "metadata": {},
   "outputs": [],
   "source": [
    "s1=s1.strip()"
   ]
  },
  {
   "cell_type": "code",
   "execution_count": 28,
   "id": "8542b7df-4ec0-49fc-a3e6-7bfb3a9f8239",
   "metadata": {},
   "outputs": [
    {
     "data": {
      "text/plain": [
       "'uu'"
      ]
     },
     "execution_count": 28,
     "metadata": {},
     "output_type": "execute_result"
    }
   ],
   "source": [
    "s1"
   ]
  },
  {
   "cell_type": "code",
   "execution_count": 29,
   "id": "093e27dd-9430-455f-bca2-44fff266a3e4",
   "metadata": {},
   "outputs": [
    {
     "data": {
      "text/plain": [
       "False"
      ]
     },
     "execution_count": 29,
     "metadata": {},
     "output_type": "execute_result"
    }
   ],
   "source": [
    "bool({})"
   ]
  },
  {
   "cell_type": "code",
   "execution_count": 32,
   "id": "acaaebd5-fc01-4189-b820-a27518b8a8c5",
   "metadata": {},
   "outputs": [],
   "source": [
    "x=[1,2,3,4,5,6,7,8,9,7,65,45,4,433,3,3,4,5,6,6,7,8,4.66]"
   ]
  },
  {
   "cell_type": "code",
   "execution_count": 39,
   "id": "a3152b81-eda6-4e0f-a4dd-3a631e7ea34f",
   "metadata": {},
   "outputs": [
    {
     "data": {
      "text/plain": [
       "[433, 4, 45]"
      ]
     },
     "execution_count": 39,
     "metadata": {},
     "output_type": "execute_result"
    }
   ],
   "source": [
    "x[-10:10:-1]"
   ]
  }
 ],
 "metadata": {
  "kernelspec": {
   "display_name": "Python [conda env:base] *",
   "language": "python",
   "name": "conda-base-py"
  },
  "language_info": {
   "codemirror_mode": {
    "name": "ipython",
    "version": 3
   },
   "file_extension": ".py",
   "mimetype": "text/x-python",
   "name": "python",
   "nbconvert_exporter": "python",
   "pygments_lexer": "ipython3",
   "version": "3.12.9"
  }
 },
 "nbformat": 4,
 "nbformat_minor": 5
}
