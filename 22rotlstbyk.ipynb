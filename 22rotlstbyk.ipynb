{
 "cells": [
  {
   "cell_type": "code",
   "execution_count": 1,
   "id": "44c15e18-21bb-4677-b0a8-79c569ff051e",
   "metadata": {},
   "outputs": [],
   "source": [
    "# 22,Write a program to rotate a list by k positions."
   ]
  },
  {
   "cell_type": "code",
   "execution_count": 29,
   "id": "d5a525c8-f0ea-4d13-81f4-53546ee976fc",
   "metadata": {},
   "outputs": [],
   "source": [
    "lst = [1,2,3,4,5,6,7,8]"
   ]
  },
  {
   "cell_type": "code",
   "execution_count": 6,
   "id": "b3363656-aa97-4a4d-84eb-df64a64baeec",
   "metadata": {},
   "outputs": [
    {
     "name": "stdin",
     "output_type": "stream",
     "text": [
      "Input rotation position: 6\n"
     ]
    }
   ],
   "source": [
    "k = int(input(\"Input rotation position:\"))"
   ]
  },
  {
   "cell_type": "code",
   "execution_count": 30,
   "id": "9bd82611-2f81-4e9c-8d55-b9b96b9d5f7d",
   "metadata": {},
   "outputs": [
    {
     "name": "stdout",
     "output_type": "stream",
     "text": [
      "8\n",
      "7\n",
      "6\n",
      "5\n",
      "4\n",
      "3\n"
     ]
    }
   ],
   "source": [
    "for i in range(k):\n",
    "    tmp = lst.pop()\n",
    "    print(tmp)\n",
    "    lst.insert(0,tmp)"
   ]
  },
  {
   "cell_type": "code",
   "execution_count": 31,
   "id": "539e153f-c1a6-402b-9671-5713e1189569",
   "metadata": {},
   "outputs": [
    {
     "data": {
      "text/plain": [
       "[3, 4, 5, 6, 7, 8, 1, 2]"
      ]
     },
     "execution_count": 31,
     "metadata": {},
     "output_type": "execute_result"
    }
   ],
   "source": [
    "lst"
   ]
  }
 ],
 "metadata": {
  "kernelspec": {
   "display_name": "Python [conda env:base] *",
   "language": "python",
   "name": "conda-base-py"
  },
  "language_info": {
   "codemirror_mode": {
    "name": "ipython",
    "version": 3
   },
   "file_extension": ".py",
   "mimetype": "text/x-python",
   "name": "python",
   "nbconvert_exporter": "python",
   "pygments_lexer": "ipython3",
   "version": "3.12.9"
  }
 },
 "nbformat": 4,
 "nbformat_minor": 5
}
