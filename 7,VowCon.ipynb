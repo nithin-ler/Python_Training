{
 "cells": [
  {
   "cell_type": "code",
   "execution_count": 1,
   "id": "c74dc313-bec4-43e5-9d86-a44977158154",
   "metadata": {},
   "outputs": [],
   "source": [
    "# 7. Write a program to count vowels and consonants in a string."
   ]
  },
  {
   "cell_type": "code",
   "execution_count": 3,
   "id": "dc47787f-063a-4cb8-a8ba-af6a10512286",
   "metadata": {},
   "outputs": [
    {
     "name": "stdout",
     "output_type": "stream",
     "text": [
      "Vowels =  3\n",
      "Consonants =  4\n"
     ]
    }
   ],
   "source": [
    "vow =0\n",
    "con =0\n",
    "vowels = [\"a\",\"e\",\"i\",\"o\",\"u\",\"A\",\"E\",\"I\",\"O\",\"U\"]\n",
    "st = \"Another\"\n",
    "for i in st:\n",
    "    if i in vowels:\n",
    "        vow= vow + 1\n",
    "    else:\n",
    "        con = con + 1\n",
    "print(\"Vowels = \",vow)\n",
    "print(\"Consonants = \",con)"
   ]
  }
 ],
 "metadata": {
  "kernelspec": {
   "display_name": "Python [conda env:base] *",
   "language": "python",
   "name": "conda-base-py"
  },
  "language_info": {
   "codemirror_mode": {
    "name": "ipython",
    "version": 3
   },
   "file_extension": ".py",
   "mimetype": "text/x-python",
   "name": "python",
   "nbconvert_exporter": "python",
   "pygments_lexer": "ipython3",
   "version": "3.12.9"
  }
 },
 "nbformat": 4,
 "nbformat_minor": 5
}
