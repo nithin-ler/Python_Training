{
 "cells": [
  {
   "cell_type": "code",
   "execution_count": 4,
   "id": "c5d805cc-dca0-4556-bbd6-0f6e48b4b1d6",
   "metadata": {},
   "outputs": [],
   "source": [
    "def linearsearch(arr,tar):\n",
    "    for i in range(len(arr)):\n",
    "        if arr[i]!=tar:\n",
    "            continue\n",
    "        else:\n",
    "            return i+1\n",
    "    return -1"
   ]
  },
  {
   "cell_type": "code",
   "execution_count": 2,
   "id": "a269cb4a-5645-4171-8fb8-18cd1b52245c",
   "metadata": {},
   "outputs": [],
   "source": [
    "arr = [2,4,8.1,0,55,9,44,3,4]"
   ]
  },
  {
   "cell_type": "code",
   "execution_count": 5,
   "id": "0753120e-ee62-4c74-8fdc-a3d6ce7bcc1e",
   "metadata": {},
   "outputs": [
    {
     "data": {
      "text/plain": [
       "3"
      ]
     },
     "execution_count": 5,
     "metadata": {},
     "output_type": "execute_result"
    }
   ],
   "source": [
    "linearsearch(arr,8.1)"
   ]
  }
 ],
 "metadata": {
  "kernelspec": {
   "display_name": "Python [conda env:base] *",
   "language": "python",
   "name": "conda-base-py"
  },
  "language_info": {
   "codemirror_mode": {
    "name": "ipython",
    "version": 3
   },
   "file_extension": ".py",
   "mimetype": "text/x-python",
   "name": "python",
   "nbconvert_exporter": "python",
   "pygments_lexer": "ipython3",
   "version": "3.12.9"
  }
 },
 "nbformat": 4,
 "nbformat_minor": 5
}
