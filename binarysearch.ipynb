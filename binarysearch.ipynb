{
 "cells": [
  {
   "cell_type": "code",
   "execution_count": 34,
   "id": "d5b9e41c-6c23-409e-bfd4-000fad4eaee3",
   "metadata": {},
   "outputs": [],
   "source": [
    "def binarysearch(arr,tar):\n",
    "    ind=len(arr)\n",
    "    low = 0\n",
    "    high = len(arr)\n",
    "    mid = int((low + high)/2)\n",
    "    while mid!=0:\n",
    "        if arr[mid]==tar:\n",
    "            return mid+1\n",
    "        elif arr[mid]>tar:\n",
    "            high = mid-1\n",
    "        elif arr[mid]<tar:\n",
    "            low = mid+1\n",
    "        mid = int(low+ (high -low)/2)\n",
    "    return -1\n",
    "            \n",
    "            \n",
    "        "
   ]
  },
  {
   "cell_type": "code",
   "execution_count": 26,
   "id": "b8fcac07-1810-4734-a831-7480426aa30d",
   "metadata": {},
   "outputs": [],
   "source": [
    "arr = [2,3,4,5,6,7,8,9,10,11]"
   ]
  },
  {
   "cell_type": "code",
   "execution_count": 35,
   "id": "810a51a4-82db-4821-8ef7-41ab7a395303",
   "metadata": {},
   "outputs": [
    {
     "data": {
      "text/plain": [
       "3"
      ]
     },
     "execution_count": 35,
     "metadata": {},
     "output_type": "execute_result"
    }
   ],
   "source": [
    "binarysearch(arr,4)"
   ]
  }
 ],
 "metadata": {
  "kernelspec": {
   "display_name": "Python [conda env:base] *",
   "language": "python",
   "name": "conda-base-py"
  },
  "language_info": {
   "codemirror_mode": {
    "name": "ipython",
    "version": 3
   },
   "file_extension": ".py",
   "mimetype": "text/x-python",
   "name": "python",
   "nbconvert_exporter": "python",
   "pygments_lexer": "ipython3",
   "version": "3.12.9"
  }
 },
 "nbformat": 4,
 "nbformat_minor": 5
}
