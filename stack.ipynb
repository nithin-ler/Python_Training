{
 "cells": [
  {
   "cell_type": "code",
   "execution_count": 29,
   "id": "43189c57-a4ce-423a-9f16-b695980e43ed",
   "metadata": {},
   "outputs": [],
   "source": [
    "class stack:\n",
    "    def __init__(self):\n",
    "        self.stack = [1]\n",
    "    def pop(self):\n",
    "        if len(self.stack)==0:\n",
    "            return None\n",
    "        return self.stack.pop()\n",
    "    def add(self,x):\n",
    "        self.stack.append(x)  \n",
    "    "
   ]
  },
  {
   "cell_type": "code",
   "execution_count": 30,
   "id": "64e86f01-fb50-41c1-9c10-a0bd2395499c",
   "metadata": {},
   "outputs": [],
   "source": [
    "a = stack()"
   ]
  },
  {
   "cell_type": "code",
   "execution_count": 31,
   "id": "1bc5a072-0256-4852-8b8e-ebbd59860012",
   "metadata": {},
   "outputs": [],
   "source": [
    "a.add(1)"
   ]
  },
  {
   "cell_type": "code",
   "execution_count": 32,
   "id": "cdfbbf93-c34e-4d8e-933c-1c285e77c839",
   "metadata": {},
   "outputs": [
    {
     "data": {
      "text/plain": [
       "1"
      ]
     },
     "execution_count": 32,
     "metadata": {},
     "output_type": "execute_result"
    }
   ],
   "source": [
    "a.pop()"
   ]
  }
 ],
 "metadata": {
  "kernelspec": {
   "display_name": "Python [conda env:base] *",
   "language": "python",
   "name": "conda-base-py"
  },
  "language_info": {
   "codemirror_mode": {
    "name": "ipython",
    "version": 3
   },
   "file_extension": ".py",
   "mimetype": "text/x-python",
   "name": "python",
   "nbconvert_exporter": "python",
   "pygments_lexer": "ipython3",
   "version": "3.12.9"
  }
 },
 "nbformat": 4,
 "nbformat_minor": 5
}
