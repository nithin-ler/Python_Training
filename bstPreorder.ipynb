{
 "cells": [
  {
   "cell_type": "code",
   "execution_count": 10,
   "id": "51ef00b5-3874-423f-a5e0-b22850fb9be9",
   "metadata": {},
   "outputs": [],
   "source": [
    "class Node:\n",
    "    def __init__(self,key):\n",
    "        self.key = key\n",
    "        self.left = None\n",
    "        self.right = None\n",
    "def preorder(root):\n",
    "    if root==None:\n",
    "        return\n",
    "    print(f\"{root.key}->\",end=\"\")\n",
    "    print(f\"{preorder(root.left)}->\",end=\"\")\n",
    "    print(f\"{preorder(root.right)}->\",end=\"\")"
   ]
  },
  {
   "cell_type": "code",
   "execution_count": 11,
   "id": "4267e1ac-fe26-42e2-9841-5f98ee03418f",
   "metadata": {},
   "outputs": [],
   "source": [
    "root = Node(5)"
   ]
  },
  {
   "cell_type": "code",
   "execution_count": 12,
   "id": "3c6d00a8-55ff-4ff6-bc76-4114372d7c75",
   "metadata": {},
   "outputs": [],
   "source": [
    "root.left = Node(3)"
   ]
  },
  {
   "cell_type": "code",
   "execution_count": 13,
   "id": "34fba0c7-ffc0-4398-88d6-a0ba43831702",
   "metadata": {},
   "outputs": [],
   "source": [
    "root.right = Node(7)"
   ]
  },
  {
   "cell_type": "code",
   "execution_count": 14,
   "id": "c6fad5b0-e948-4417-aeb8-da703f97cc50",
   "metadata": {},
   "outputs": [],
   "source": [
    "root.left.left = Node(2)"
   ]
  },
  {
   "cell_type": "code",
   "execution_count": 15,
   "id": "c0cb7ad0-0b8a-4b0a-9938-8a062a4fbcc4",
   "metadata": {},
   "outputs": [],
   "source": [
    "root.left.right = Node(4)"
   ]
  },
  {
   "cell_type": "code",
   "execution_count": 16,
   "id": "afe42c2c-9061-4e3e-ae94-7931177a8403",
   "metadata": {},
   "outputs": [],
   "source": [
    "root.right.left = Node(6)"
   ]
  },
  {
   "cell_type": "code",
   "execution_count": 17,
   "id": "ef0b3484-4b57-4a2d-9020-1722edbff98b",
   "metadata": {},
   "outputs": [],
   "source": [
    "root.right.right = Node(8)"
   ]
  },
  {
   "cell_type": "code",
   "execution_count": 18,
   "id": "04cd059a-2512-4ab4-bbdd-56da446a0e4f",
   "metadata": {},
   "outputs": [
    {
     "name": "stdout",
     "output_type": "stream",
     "text": [
      "5->3->2->None->None->None->4->None->None->None->None->7->6->None->None->None->8->None->None->None->None->"
     ]
    }
   ],
   "source": [
    "preorder(root)"
   ]
  }
 ],
 "metadata": {
  "kernelspec": {
   "display_name": "Python [conda env:base] *",
   "language": "python",
   "name": "conda-base-py"
  },
  "language_info": {
   "codemirror_mode": {
    "name": "ipython",
    "version": 3
   },
   "file_extension": ".py",
   "mimetype": "text/x-python",
   "name": "python",
   "nbconvert_exporter": "python",
   "pygments_lexer": "ipython3",
   "version": "3.12.9"
  }
 },
 "nbformat": 4,
 "nbformat_minor": 5
}
