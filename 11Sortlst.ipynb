{
 "cells": [
  {
   "cell_type": "code",
   "execution_count": 5,
   "id": "11942384-89cf-4177-aa04-5fc8ee61c9e9",
   "metadata": {},
   "outputs": [],
   "source": [
    "# 11, Write a program to sort a list without using built-in sort()"
   ]
  },
  {
   "cell_type": "code",
   "execution_count": 6,
   "id": "7fa7716a-b9a7-4af6-b3fb-eb832043b0ef",
   "metadata": {},
   "outputs": [],
   "source": [
    "# Selection sort"
   ]
  },
  {
   "cell_type": "code",
   "execution_count": 2,
   "id": "e42243c6-1a9f-4dee-9454-47ecf5cb83f5",
   "metadata": {},
   "outputs": [],
   "source": [
    "lst = [9,8,3,6,4,5,2]"
   ]
  },
  {
   "cell_type": "code",
   "execution_count": 3,
   "id": "a2e63352-3d7d-4418-9b51-743893970f9c",
   "metadata": {},
   "outputs": [],
   "source": [
    "for i in range(len(lst)):\n",
    "    for j in range(i,len(lst)):\n",
    "        if lst[j]<lst[i]:\n",
    "            lst[j],lst[i] = lst[i],lst[j]"
   ]
  },
  {
   "cell_type": "code",
   "execution_count": 4,
   "id": "4351205c-f36c-4328-a4dc-5f5b2f57817a",
   "metadata": {},
   "outputs": [
    {
     "data": {
      "text/plain": [
       "[2, 3, 4, 5, 6, 8, 9]"
      ]
     },
     "execution_count": 4,
     "metadata": {},
     "output_type": "execute_result"
    }
   ],
   "source": [
    "lst"
   ]
  }
 ],
 "metadata": {
  "kernelspec": {
   "display_name": "Python [conda env:base] *",
   "language": "python",
   "name": "conda-base-py"
  },
  "language_info": {
   "codemirror_mode": {
    "name": "ipython",
    "version": 3
   },
   "file_extension": ".py",
   "mimetype": "text/x-python",
   "name": "python",
   "nbconvert_exporter": "python",
   "pygments_lexer": "ipython3",
   "version": "3.12.9"
  }
 },
 "nbformat": 4,
 "nbformat_minor": 5
}
