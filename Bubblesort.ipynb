{
 "cells": [
  {
   "cell_type": "code",
   "execution_count": 25,
   "id": "527b03c0-33c5-418c-8974-e8e8d10f826e",
   "metadata": {},
   "outputs": [],
   "source": [
    "def bubble(arr):\n",
    "    for i in range(len(arr)):\n",
    "        j=i+1\n",
    "        while j<len(arr) and arr[i]>arr[j]:\n",
    "            temp = arr[j]\n",
    "            arr[j] = arr[i]\n",
    "            arr[i] = temp\n",
    "            j+=1\n",
    "    return arr"
   ]
  },
  {
   "cell_type": "code",
   "execution_count": 7,
   "id": "f0bc560a-141c-438f-a949-fd15e0b75e7d",
   "metadata": {},
   "outputs": [],
   "source": [
    "arr = [3,1,9,5,0,2,8,5,0]"
   ]
  },
  {
   "cell_type": "code",
   "execution_count": 26,
   "id": "396c6a9a-a638-4cac-a779-bdbbc7c1d95a",
   "metadata": {},
   "outputs": [
    {
     "name": "stdout",
     "output_type": "stream",
     "text": [
      "[0, 0, 1, 2, 3, 5, 5, 8, 9]\n"
     ]
    }
   ],
   "source": [
    "print(bubble(arr))"
   ]
  }
 ],
 "metadata": {
  "kernelspec": {
   "display_name": "Python [conda env:base] *",
   "language": "python",
   "name": "conda-base-py"
  },
  "language_info": {
   "codemirror_mode": {
    "name": "ipython",
    "version": 3
   },
   "file_extension": ".py",
   "mimetype": "text/x-python",
   "name": "python",
   "nbconvert_exporter": "python",
   "pygments_lexer": "ipython3",
   "version": "3.12.9"
  }
 },
 "nbformat": 4,
 "nbformat_minor": 5
}
