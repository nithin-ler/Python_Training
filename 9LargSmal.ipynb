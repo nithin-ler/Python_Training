{
 "cells": [
  {
   "cell_type": "code",
   "execution_count": 1,
   "id": "28d16d7c-8e15-44f9-b463-e0964d33ee4d",
   "metadata": {},
   "outputs": [],
   "source": [
    "# 9, Write a program to find the largest and smallest number in a list."
   ]
  },
  {
   "cell_type": "code",
   "execution_count": 2,
   "id": "8f8816e4-5271-4417-9916-f794c5f835b4",
   "metadata": {},
   "outputs": [],
   "source": [
    "lst = [3,4,5,0,9,7,1,5,2]"
   ]
  },
  {
   "cell_type": "code",
   "execution_count": 4,
   "id": "6be6d432-f351-41b5-ad9a-fc6fa7ebd11d",
   "metadata": {},
   "outputs": [
    {
     "name": "stdout",
     "output_type": "stream",
     "text": [
      "Large = 9\n",
      "Small = 0\n"
     ]
    }
   ],
   "source": [
    "import math\n",
    "small = math.inf\n",
    "large = 0\n",
    "for i in lst:\n",
    "    if i > large:\n",
    "        large=i\n",
    "    if i<small:\n",
    "        small=i\n",
    "print(\"Large =\",large)\n",
    "print(\"Small =\",small)"
   ]
  }
 ],
 "metadata": {
  "kernelspec": {
   "display_name": "Python [conda env:base] *",
   "language": "python",
   "name": "conda-base-py"
  },
  "language_info": {
   "codemirror_mode": {
    "name": "ipython",
    "version": 3
   },
   "file_extension": ".py",
   "mimetype": "text/x-python",
   "name": "python",
   "nbconvert_exporter": "python",
   "pygments_lexer": "ipython3",
   "version": "3.12.9"
  }
 },
 "nbformat": 4,
 "nbformat_minor": 5
}
